{
  "cells": [
    {
      "cell_type": "code",
      "execution_count": 25,
      "metadata": {
        "id": "D2IliGyI62B0"
      },
      "outputs": [],
      "source": [
        "import tensorflow as tf"
      ]
    },
    {
      "cell_type": "code",
      "execution_count": 26,
      "metadata": {
        "colab": {
          "base_uri": "https://localhost:8080/"
        },
        "id": "4_fyxUHb7GuH",
        "outputId": "2c8a495d-cff8-49f1-b9c2-fa63165b0043"
      },
      "outputs": [
        {
          "name": "stdout",
          "output_type": "stream",
          "text": [
            "2.15.0\n"
          ]
        }
      ],
      "source": [
        "print(tf.__version__)"
      ]
    },
    {
      "cell_type": "code",
      "execution_count": 27,
      "metadata": {
        "id": "LLvV2K-o7KAp"
      },
      "outputs": [],
      "source": [
        "# Importing the libraries\n",
        "import numpy as np\n",
        "import matplotlib.pyplot as plt\n",
        "import pandas as pd"
      ]
    },
    {
      "cell_type": "code",
      "execution_count": 28,
      "metadata": {
        "id": "gHRHobkK7Sxn"
      },
      "outputs": [],
      "source": [
        "# Importing the dataset\n",
        "dataset = pd.read_csv('Churn_Modelling.csv')\n",
        "X = dataset.iloc[:, 3:13]\n",
        "y = dataset.iloc[:, 13]"
      ]
    },
    {
      "cell_type": "code",
      "execution_count": 29,
      "metadata": {
        "id": "T2yS0VL67Ufn"
      },
      "outputs": [],
      "source": [
        "#Create dummy variables\n",
        "geography=pd.get_dummies(X[\"Geography\"],drop_first=True)\n",
        "gender=pd.get_dummies(X['Gender'],drop_first=True)"
      ]
    },
    {
      "cell_type": "code",
      "execution_count": 30,
      "metadata": {
        "id": "Co2rxaFR7Wgo"
      },
      "outputs": [],
      "source": [
        "## Concatenate the Data Frames\n",
        "\n",
        "X=pd.concat([X,geography,gender],axis=1)\n",
        "\n",
        "## Drop Unnecessary columns\n",
        "X=X.drop(['Geography','Gender'],axis=1)\n",
        "\n",
        "# Splitting the dataset into the Training set and Test set\n",
        "from sklearn.model_selection import train_test_split\n",
        "X_train, X_test, y_train, y_test = train_test_split(X, y, test_size = 0.2, random_state = 0)\n"
      ]
    },
    {
      "cell_type": "code",
      "execution_count": 31,
      "metadata": {
        "id": "GNZrZXy37ZLs"
      },
      "outputs": [],
      "source": [
        "# Feature Scaling\n",
        "from sklearn.preprocessing import StandardScaler\n",
        "sc = StandardScaler()\n",
        "X_train = sc.fit_transform(X_train)\n",
        "X_test = sc.transform(X_test)\n"
      ]
    },
    {
      "cell_type": "code",
      "execution_count": 32,
      "metadata": {
        "id": "uwN3bgie7bvT"
      },
      "outputs": [],
      "source": [
        "# Part 2 - Now let's make the ANN!"
      ]
    },
    {
      "cell_type": "code",
      "execution_count": 33,
      "metadata": {
        "id": "rL_a7vWu7dj1"
      },
      "outputs": [],
      "source": [
        "from tensorflow.keras.models import Sequential\n",
        "from tensorflow.keras.layers import Dense\n",
        "from tensorflow.keras.layers import LeakyReLU,PReLU,ELU\n",
        "from tensorflow.keras.layers import Dropout\n"
      ]
    },
    {
      "cell_type": "code",
      "execution_count": 34,
      "metadata": {
        "id": "VDJwvrbZ7kj4"
      },
      "outputs": [],
      "source": [
        "# Initialising the ANN\n",
        "classifier = Sequential()"
      ]
    },
    {
      "cell_type": "code",
      "execution_count": 35,
      "metadata": {
        "id": "RSZQrU-g7z4N"
      },
      "outputs": [],
      "source": [
        "# Adding the input layer and the first hidden layer\n",
        "classifier.add(Dense(units=11,activation='relu'))"
      ]
    },
    {
      "cell_type": "code",
      "execution_count": 36,
      "metadata": {
        "id": "byszZMvw8RcQ"
      },
      "outputs": [],
      "source": [
        "# Adding the input layer and the first hidden layer\n",
        "classifier.add(Dense(units=6,activation='relu'))"
      ]
    },
    {
      "cell_type": "code",
      "execution_count": 37,
      "metadata": {
        "id": "Mk2slmAX8XUI"
      },
      "outputs": [],
      "source": [
        "# Adding the input layer and the first hidden layer\n",
        "classifier.add(Dense(units=1,activation='relu'))"
      ]
    },
    {
      "cell_type": "code",
      "execution_count": 38,
      "metadata": {
        "id": "F2udThHo8cFt"
      },
      "outputs": [],
      "source": [
        "classifier.compile(optimizer='adam',loss='binary_crossentropy',metrics=['accuracy'])"
      ]
    },
    {
      "cell_type": "code",
      "execution_count": 39,
      "metadata": {
        "colab": {
          "base_uri": "https://localhost:8080/"
        },
        "id": "3qairJAs8fIc",
        "outputId": "0730a4ec-193f-41ae-daff-4ccc7673b142"
      },
      "outputs": [
        {
          "name": "stdout",
          "output_type": "stream",
          "text": [
            "Epoch 1/50\n"
          ]
        },
        {
          "name": "stdout",
          "output_type": "stream",
          "text": [
            "536/536 [==============================] - 2s 2ms/step - loss: 2.1012 - accuracy: 0.7820 - val_loss: 1.8105 - val_accuracy: 0.7781\n",
            "Epoch 2/50\n",
            "536/536 [==============================] - 1s 2ms/step - loss: 1.3996 - accuracy: 0.7675 - val_loss: 1.1294 - val_accuracy: 0.7603\n",
            "Epoch 3/50\n",
            "536/536 [==============================] - 1s 2ms/step - loss: 0.9268 - accuracy: 0.7569 - val_loss: 0.7968 - val_accuracy: 0.7573\n",
            "Epoch 4/50\n",
            "536/536 [==============================] - 1s 2ms/step - loss: 0.7136 - accuracy: 0.7621 - val_loss: 0.7196 - val_accuracy: 0.7705\n",
            "Epoch 5/50\n",
            "536/536 [==============================] - 1s 1ms/step - loss: 0.6452 - accuracy: 0.7705 - val_loss: 0.6440 - val_accuracy: 0.7800\n",
            "Epoch 6/50\n",
            "536/536 [==============================] - 1s 1ms/step - loss: 0.5642 - accuracy: 0.7778 - val_loss: 0.5771 - val_accuracy: 0.7902\n",
            "Epoch 7/50\n",
            "536/536 [==============================] - 1s 2ms/step - loss: 0.5213 - accuracy: 0.7854 - val_loss: 0.5465 - val_accuracy: 0.7952\n",
            "Epoch 8/50\n",
            "536/536 [==============================] - 1s 2ms/step - loss: 0.5023 - accuracy: 0.7964 - val_loss: 0.5265 - val_accuracy: 0.7970\n",
            "Epoch 9/50\n",
            "536/536 [==============================] - 1s 2ms/step - loss: 0.4856 - accuracy: 0.8039 - val_loss: 0.5119 - val_accuracy: 0.7986\n",
            "Epoch 10/50\n",
            "536/536 [==============================] - 1s 2ms/step - loss: 0.4749 - accuracy: 0.8074 - val_loss: 0.5053 - val_accuracy: 0.8012\n",
            "Epoch 11/50\n",
            "536/536 [==============================] - 1s 2ms/step - loss: 0.4643 - accuracy: 0.8095 - val_loss: 0.5012 - val_accuracy: 0.8035\n",
            "Epoch 12/50\n",
            "536/536 [==============================] - 1s 2ms/step - loss: 0.4529 - accuracy: 0.8078 - val_loss: 0.4964 - val_accuracy: 0.8042\n",
            "Epoch 13/50\n",
            "536/536 [==============================] - 1s 2ms/step - loss: 0.4470 - accuracy: 0.8108 - val_loss: 0.4901 - val_accuracy: 0.8095\n",
            "Epoch 14/50\n",
            "536/536 [==============================] - 1s 2ms/step - loss: 0.4392 - accuracy: 0.8128 - val_loss: 0.4696 - val_accuracy: 0.8118\n",
            "Epoch 15/50\n",
            "536/536 [==============================] - 1s 2ms/step - loss: 0.4324 - accuracy: 0.8164 - val_loss: 0.4634 - val_accuracy: 0.8137\n",
            "Epoch 16/50\n",
            "536/536 [==============================] - 1s 2ms/step - loss: 0.4301 - accuracy: 0.8196 - val_loss: 0.4593 - val_accuracy: 0.8137\n",
            "Epoch 17/50\n",
            "536/536 [==============================] - 1s 2ms/step - loss: 0.4230 - accuracy: 0.8248 - val_loss: 0.4689 - val_accuracy: 0.8160\n",
            "Epoch 18/50\n",
            "536/536 [==============================] - 1s 2ms/step - loss: 0.4176 - accuracy: 0.8270 - val_loss: 0.4601 - val_accuracy: 0.8148\n",
            "Epoch 19/50\n",
            "536/536 [==============================] - 1s 2ms/step - loss: 0.4135 - accuracy: 0.8298 - val_loss: 0.4833 - val_accuracy: 0.8198\n",
            "Epoch 20/50\n",
            "536/536 [==============================] - 1s 2ms/step - loss: 0.4087 - accuracy: 0.8332 - val_loss: 0.4480 - val_accuracy: 0.8190\n",
            "Epoch 21/50\n",
            "536/536 [==============================] - 1s 2ms/step - loss: 0.4027 - accuracy: 0.8345 - val_loss: 0.4317 - val_accuracy: 0.8194\n",
            "Epoch 22/50\n",
            "536/536 [==============================] - 1s 2ms/step - loss: 0.3928 - accuracy: 0.8377 - val_loss: 0.4371 - val_accuracy: 0.8266\n",
            "Epoch 23/50\n",
            "536/536 [==============================] - 1s 2ms/step - loss: 0.3851 - accuracy: 0.8414 - val_loss: 0.4464 - val_accuracy: 0.8266\n",
            "Epoch 24/50\n",
            "536/536 [==============================] - 1s 2ms/step - loss: 0.3825 - accuracy: 0.8433 - val_loss: 0.4196 - val_accuracy: 0.8243\n",
            "Epoch 25/50\n",
            "536/536 [==============================] - 1s 2ms/step - loss: 0.4336 - accuracy: 0.8274 - val_loss: 0.4724 - val_accuracy: 0.8058\n",
            "Epoch 26/50\n",
            "536/536 [==============================] - 1s 2ms/step - loss: 0.4067 - accuracy: 0.8173 - val_loss: 0.4365 - val_accuracy: 0.8126\n",
            "Epoch 27/50\n",
            "536/536 [==============================] - 1s 2ms/step - loss: 0.3911 - accuracy: 0.8237 - val_loss: 0.4227 - val_accuracy: 0.8164\n",
            "Epoch 28/50\n",
            "536/536 [==============================] - 1s 2ms/step - loss: 0.3846 - accuracy: 0.8304 - val_loss: 0.4295 - val_accuracy: 0.8186\n",
            "Epoch 29/50\n",
            "536/536 [==============================] - 1s 2ms/step - loss: 0.3789 - accuracy: 0.8354 - val_loss: 0.4228 - val_accuracy: 0.8254\n",
            "Epoch 30/50\n",
            "536/536 [==============================] - 1s 2ms/step - loss: 0.3773 - accuracy: 0.8412 - val_loss: 0.4176 - val_accuracy: 0.8319\n",
            "Epoch 31/50\n",
            "536/536 [==============================] - 1s 2ms/step - loss: 0.3680 - accuracy: 0.8464 - val_loss: 0.4230 - val_accuracy: 0.8376\n",
            "Epoch 32/50\n",
            "536/536 [==============================] - 1s 2ms/step - loss: 0.3653 - accuracy: 0.8490 - val_loss: 0.4062 - val_accuracy: 0.8417\n",
            "Epoch 33/50\n",
            "536/536 [==============================] - 1s 2ms/step - loss: 0.3596 - accuracy: 0.8545 - val_loss: 0.4166 - val_accuracy: 0.8425\n",
            "Epoch 34/50\n",
            "536/536 [==============================] - 1s 2ms/step - loss: 0.3639 - accuracy: 0.8545 - val_loss: 0.4446 - val_accuracy: 0.8432\n",
            "Epoch 35/50\n",
            "536/536 [==============================] - 1s 2ms/step - loss: 0.3632 - accuracy: 0.8533 - val_loss: 0.4169 - val_accuracy: 0.8440\n",
            "Epoch 36/50\n",
            "536/536 [==============================] - 1s 1ms/step - loss: 0.3662 - accuracy: 0.8552 - val_loss: 0.4290 - val_accuracy: 0.8444\n",
            "Epoch 37/50\n",
            "536/536 [==============================] - 1s 2ms/step - loss: 0.3604 - accuracy: 0.8509 - val_loss: 0.4136 - val_accuracy: 0.8436\n",
            "Epoch 38/50\n",
            "536/536 [==============================] - 1s 2ms/step - loss: 0.3617 - accuracy: 0.8543 - val_loss: 0.4067 - val_accuracy: 0.8448\n",
            "Epoch 39/50\n",
            "536/536 [==============================] - 1s 2ms/step - loss: 0.3545 - accuracy: 0.8571 - val_loss: 0.3954 - val_accuracy: 0.8421\n",
            "Epoch 40/50\n",
            "536/536 [==============================] - 1s 2ms/step - loss: 0.3598 - accuracy: 0.8543 - val_loss: 0.3937 - val_accuracy: 0.8395\n",
            "Epoch 41/50\n",
            "536/536 [==============================] - 1s 2ms/step - loss: 0.3605 - accuracy: 0.8552 - val_loss: 0.4103 - val_accuracy: 0.8455\n",
            "Epoch 42/50\n",
            "536/536 [==============================] - 1s 2ms/step - loss: 0.3552 - accuracy: 0.8567 - val_loss: 0.4225 - val_accuracy: 0.8489\n",
            "Epoch 43/50\n",
            "536/536 [==============================] - 1s 2ms/step - loss: 0.3829 - accuracy: 0.8406 - val_loss: 0.4372 - val_accuracy: 0.8118\n",
            "Epoch 44/50\n",
            "536/536 [==============================] - 1s 2ms/step - loss: 0.3878 - accuracy: 0.8360 - val_loss: 0.4218 - val_accuracy: 0.8232\n",
            "Epoch 45/50\n",
            "536/536 [==============================] - 1s 2ms/step - loss: 0.3682 - accuracy: 0.8459 - val_loss: 0.4188 - val_accuracy: 0.8398\n",
            "Epoch 46/50\n",
            "536/536 [==============================] - 1s 1ms/step - loss: 0.3610 - accuracy: 0.8472 - val_loss: 0.4139 - val_accuracy: 0.8395\n",
            "Epoch 47/50\n",
            "536/536 [==============================] - 1s 1ms/step - loss: 0.3575 - accuracy: 0.8475 - val_loss: 0.4148 - val_accuracy: 0.8413\n",
            "Epoch 48/50\n",
            "536/536 [==============================] - 1s 2ms/step - loss: 0.3529 - accuracy: 0.8492 - val_loss: 0.4163 - val_accuracy: 0.8459\n",
            "Epoch 49/50\n",
            "536/536 [==============================] - 1s 2ms/step - loss: 0.3547 - accuracy: 0.8530 - val_loss: 0.4224 - val_accuracy: 0.8489\n",
            "Epoch 50/50\n",
            "536/536 [==============================] - 1s 2ms/step - loss: 0.3503 - accuracy: 0.8537 - val_loss: 0.4188 - val_accuracy: 0.8455\n"
          ]
        }
      ],
      "source": [
        "model_history=classifier.fit(X_train,y_train,validation_split=0.33,batch_size=10,epochs=50)"
      ]
    },
    {
      "cell_type": "code",
      "execution_count": 40,
      "metadata": {
        "colab": {
          "base_uri": "https://localhost:8080/"
        },
        "id": "Q9t_M4wICTTz",
        "outputId": "18fa935a-8009-407f-de61-7f6a83669624"
      },
      "outputs": [
        {
          "name": "stdout",
          "output_type": "stream",
          "text": [
            "dict_keys(['loss', 'accuracy', 'val_loss', 'val_accuracy'])\n"
          ]
        }
      ],
      "source": [
        "# list all data in history\n",
        "\n",
        "print(model_history.history.keys())"
      ]
    },
    {
      "cell_type": "code",
      "execution_count": 41,
      "metadata": {
        "colab": {
          "base_uri": "https://localhost:8080/",
          "height": 295
        },
        "id": "MMOyiwzgBlLY",
        "outputId": "aeb29600-3c1f-41aa-9e29-05acf6011ed8"
      },
      "outputs": [
        {
          "data": {
            "image/png": "[encoded data removed]",
            "text/plain": [
              "<Figure size 640x480 with 1 Axes>"
            ]
          },
          "metadata": {},
          "output_type": "display_data"
        }
      ],
      "source": [
        "\n",
        "# summarize history for accuracy\n",
        "plt.plot(model_history.history['accuracy'])\n",
        "plt.plot(model_history.history['val_accuracy'])\n",
        "plt.title('model accuracy')\n",
        "plt.ylabel('accuracy')\n",
        "plt.xlabel('epoch')\n",
        "plt.legend(['train', 'test'], loc='upper left')\n",
        "plt.show()"
      ]
    },
    {
      "cell_type": "code",
      "execution_count": 42,
      "metadata": {
        "colab": {
          "base_uri": "https://localhost:8080/",
          "height": 295
        },
        "id": "QH141RsQCEr0",
        "outputId": "4566dca0-b002-4f59-b6e8-f8654b414283"
      },
      "outputs": [
        {
          "data": {
            "image/png": "[encoded data removed]",
            "text/plain": [
              "<Figure size 640x480 with 1 Axes>"
            ]
          },
          "metadata": {},
          "output_type": "display_data"
        }
      ],
      "source": [
        "# summarize history for loss\n",
        "plt.plot(model_history.history['loss'])\n",
        "plt.plot(model_history.history['val_loss'])\n",
        "plt.title('model loss')\n",
        "plt.ylabel('loss')\n",
        "plt.xlabel('epoch')\n",
        "plt.legend(['train', 'test'], loc='upper left')\n",
        "plt.show()"
      ]
    },
    {
      "cell_type": "code",
      "execution_count": 43,
      "metadata": {
        "id": "OYqCIIkDCd8S"
      },
      "outputs": [
        {
          "name": "stdout",
          "output_type": "stream",
          "text": [
            "63/63 [==============================] - 0s 860us/step\n"
          ]
        }
      ],
      "source": [
        "# Part 3 - Making the predictions and evaluating the model\n",
        "\n",
        "# Predicting the Test set results\n",
        "y_pred = classifier.predict(X_test)\n",
        "y_pred = (y_pred > 0.5)"
      ]
    },
    {
      "cell_type": "code",
      "execution_count": 44,
      "metadata": {
        "colab": {
          "base_uri": "https://localhost:8080/"
        },
        "id": "cm3EeOGTCi3-",
        "outputId": "f3cfe210-0811-4c4e-ce72-4100b32bb79f"
      },
      "outputs": [
        {
          "data": {
            "text/plain": [
              "array([[1533,   62],\n",
              "       [ 225,  180]], dtype=int64)"
            ]
          },
          "execution_count": 44,
          "metadata": {},
          "output_type": "execute_result"
        }
      ],
      "source": [
        "# Making the Confusion Matrix\n",
        "from sklearn.metrics import confusion_matrix\n",
        "cm = confusion_matrix(y_test, y_pred)\n",
        "cm"
      ]
    },
    {
      "cell_type": "code",
      "execution_count": 45,
      "metadata": {
        "id": "FgfRKzzOClmP"
      },
      "outputs": [],
      "source": [
        "# Calculate the Accuracy\n",
        "from sklearn.metrics import accuracy_score\n",
        "score=accuracy_score(y_pred,y_test)"
      ]
    },
    {
      "cell_type": "code",
      "execution_count": 46,
      "metadata": {
        "colab": {
          "base_uri": "https://localhost:8080/"
        },
        "id": "a_C5EETrCpSj",
        "outputId": "6e495c58-0149-453b-b0d6-592606fe5c80"
      },
      "outputs": [
        {
          "name": "stdout",
          "output_type": "stream",
          "text": [
            "0.8565\n"
          ]
        }
      ],
      "source": [
        "print(score)"
      ]
    }
  ],
  "metadata": {
    "colab": {
      "name": "Untitled63.ipynb",
      "provenance": []
    },
    "kernelspec": {
      "display_name": "Python 3",
      "name": "python3"
    },
    "language_info": {
      "codemirror_mode": {
        "name": "ipython",
        "version": 3
      },
      "file_extension": ".py",
      "mimetype": "text/x-python",
      "name": "python",
      "nbconvert_exporter": "python",
      "pygments_lexer": "ipython3",
      "version": "3.11.1"
    }
  },
  "nbformat": 4,
  "nbformat_minor": 0
}
